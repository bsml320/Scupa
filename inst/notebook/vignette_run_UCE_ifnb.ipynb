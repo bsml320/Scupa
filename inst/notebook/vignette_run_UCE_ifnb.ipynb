{
 "cells": [
  {
   "cell_type": "markdown",
   "id": "138bc615",
   "metadata": {},
   "source": [
    "# Run UCE for the IFNB-stimulation data"
   ]
  },
  {
   "cell_type": "markdown",
   "id": "63e7649f",
   "metadata": {},
   "source": [
    "This python notebook shows an example of generating Universial Cell Embeddings for scRNA-seq count data."
   ]
  },
  {
   "cell_type": "code",
   "execution_count": 1,
   "id": "c3f52fb8",
   "metadata": {},
   "outputs": [],
   "source": [
    "import scanpy as sc\n",
    "import anndata as ad\n",
    "import numpy as np\n",
    "import pandas as pd\n",
    "import os"
   ]
  },
  {
   "cell_type": "markdown",
   "id": "1b684158",
   "metadata": {},
   "source": [
    "## Step 1: create an AnnData"
   ]
  },
  {
   "cell_type": "markdown",
   "id": "949a0853",
   "metadata": {},
   "source": [
    "In this example, we show creating an AnnData from UMI count matrix and metadata.\n",
    "\n",
    "In order to create an AnnData from other data format, please refer to:\n",
    "\n",
    "* https://anndata.readthedocs.io/en/latest/generated/anndata.AnnData.html\n",
    "* https://scanpy.readthedocs.io/en/stable/api/reading.html\n",
    "\n",
    "Make sure that the UMI counts are **NOT** normalized as UCE requires count data as input."
   ]
  },
  {
   "cell_type": "code",
   "execution_count": 2,
   "id": "029f1a99",
   "metadata": {},
   "outputs": [],
   "source": [
    "ifnb_meta = pd.read_csv('data/ifnb_metadata.csv', index_col=0)\n",
    "ifnb_count = pd.read_csv('data/ifnb_count.csv.gz', index_col=0)\n",
    "adata = ad.AnnData(X=ifnb_count.T, obs=ifnb_meta)"
   ]
  },
  {
   "cell_type": "markdown",
   "id": "201077f5",
   "metadata": {},
   "source": [
    "Then we write the AnnData to the disk as a h5ad file."
   ]
  },
  {
   "cell_type": "code",
   "execution_count": 3,
   "id": "61ae5c1c",
   "metadata": {},
   "outputs": [
    {
     "data": {
      "text/plain": [
       "AnnData object with n_obs × n_vars = 13999 × 14053\n",
       "    obs: 'orig.ident', 'nCount_RNA', 'nFeature_RNA', 'stim', 'seurat_annotations'"
      ]
     },
     "execution_count": 3,
     "metadata": {},
     "output_type": "execute_result"
    }
   ],
   "source": [
    "adata.write_h5ad('data/ifnb_count.h5ad')\n",
    "adata"
   ]
  },
  {
   "cell_type": "markdown",
   "id": "3fa7017c",
   "metadata": {},
   "source": [
    "## Step 2: run UCE"
   ]
  },
  {
   "cell_type": "markdown",
   "id": "cb2dfb0a",
   "metadata": {},
   "source": [
    "UCE must be installed in this step. Please refer to the website to install and run UCE:\n",
    "\n",
    "* https://github.com/snap-stanford/UCE"
   ]
  },
  {
   "cell_type": "markdown",
   "id": "13792863",
   "metadata": {},
   "source": [
    "After installing UCE, we change to working directory to UCE directory."
   ]
  },
  {
   "cell_type": "code",
   "execution_count": 4,
   "id": "68e0fbc0",
   "metadata": {},
   "outputs": [],
   "source": [
    "os.chdir('UCE')"
   ]
  },
  {
   "cell_type": "markdown",
   "id": "13cd597d",
   "metadata": {},
   "source": [
    "Then we set some parameters to run UCE for the **ifnb_count.h5ad**."
   ]
  },
  {
   "cell_type": "code",
   "execution_count": 5,
   "id": "3739b1ba",
   "metadata": {},
   "outputs": [
    {
     "name": "stdout",
     "output_type": "stream",
     "text": [
      "Proccessing ifnb_count\n",
      "3828.0\n",
      "ifnb_count (13999, 10744)\n",
      "Wrote Shapes Dict\n",
      "10744\n",
      "Max Code: 612\n",
      "Loaded model:\n",
      "model_files/4layer_model.torch\n",
      "100%|█████████████████████████████████████████| 280/280 [04:12<00:00,  1.11it/s]\n",
      "*****Wrote Anndata to:*****\n",
      "../data/ifnb_count_uce_adata.h5ad\n"
     ]
    }
   ],
   "source": [
    "!python eval_single_anndata.py --adata_path ../data/ifnb_count.h5ad --dir ../data/ --species human --model_loc model_files/4layer_model.torch --batch_size 50"
   ]
  },
  {
   "cell_type": "markdown",
   "id": "60fe6254",
   "metadata": {},
   "source": [
    "The output data is saved as **ifnb_count_uce_adata.h5ad**.\n",
    "\n",
    "The UCE embeddings are saved in **adata.obsm['X_uce']**. We can view the output and save to a csv file."
   ]
  },
  {
   "cell_type": "code",
   "execution_count": 6,
   "id": "0f45c241",
   "metadata": {},
   "outputs": [],
   "source": [
    "os.chdir('..')"
   ]
  },
  {
   "cell_type": "code",
   "execution_count": 7,
   "id": "7c41cc49",
   "metadata": {},
   "outputs": [
    {
     "data": {
      "text/plain": [
       "AnnData object with n_obs × n_vars = 13999 × 10744\n",
       "    obs: 'orig.ident', 'nCount_RNA', 'nFeature_RNA', 'stim', 'seurat_annotations', 'n_genes'\n",
       "    var: 'n_cells'\n",
       "    obsm: 'X_uce'"
      ]
     },
     "execution_count": 7,
     "metadata": {},
     "output_type": "execute_result"
    }
   ],
   "source": [
    "adata = sc.read_h5ad('data/ifnb_count_uce_adata.h5ad')\n",
    "adata"
   ]
  },
  {
   "cell_type": "code",
   "execution_count": 8,
   "id": "3ab77da1",
   "metadata": {},
   "outputs": [],
   "source": [
    "uce_emb = adata.obsm['X_uce']\n",
    "df_emb = pd.DataFrame(uce_emb, index=adata.obs_names, columns=[f'UCE_{i}' for i in range(1, uce_emb.shape[1]+1)])\n",
    "df_emb.to_csv('data/ifnb_count_uce_emb.csv.gz')"
   ]
  }
 ],
 "metadata": {
  "kernelspec": {
   "display_name": "Python 3 (ipykernel)",
   "language": "python",
   "name": "python3"
  },
  "language_info": {
   "codemirror_mode": {
    "name": "ipython",
    "version": 3
   },
   "file_extension": ".py",
   "mimetype": "text/x-python",
   "name": "python",
   "nbconvert_exporter": "python",
   "pygments_lexer": "ipython3",
   "version": "3.10.5"
  }
 },
 "nbformat": 4,
 "nbformat_minor": 5
}
